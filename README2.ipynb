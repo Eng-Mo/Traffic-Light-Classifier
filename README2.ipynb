{
 "cells": [
  {
   "cell_type": "markdown",
   "metadata": {},
   "source": [
    "%%writefile README.md\n",
    "## Taffic Light Detection Node\n",
    "[image1]: ./data/results/ssd_vertical.jpg\n",
    "[image2]: ./data/results/real_ssd.jpg\n",
    "Traffic Light Detection is a crucial part in perception module in self-driving car to make the vehicle able to recognise the traffic light's status to take the right action either to stop or continue driving. the on-board vehicle's camera provides this node the image frames to this node and publish the traffic light's status to /traffic_waypoint topic. According to this information the waypoint updater node determines the vehicle's action either to stop, slow down or continue driving.\n",
    "\n",
    "Our solution is implemetation of deep learning model for the simulator and test site. We used Tensorflow Object Detection API to dettect the traffic light status. We experimented two models `ssd_inception_v2_coc` and `faster_rcnn_inception_v2_coco` for this part. We decided to use for simulator and Carla submissions the `ssd_inception_v2_coc` due to it's performance in detection detection and processing time. This model is a pre-trained model on COCO dataset for 90 diffrent classes. the light traffic is included in the COCO dataset but it just localise the traffic light and doesn't detect its status. Therefore, we re-trained the model on Simulator and site data to make single shot detection. we extracted the train data form the simulator and ROSbag file and modified the model `ssd_inception_v2_coco-sim.config` and `ssd_inception_v2_coco-real.config` file to be suited to our needs. More information about setup and training can be found in  [Traffic Light Detector](https://github.com/Eng-Mo/Traffic-Light-Classifier.git) and the following is the result.       \n",
    "\n",
    "![title][image1]\n",
    "![title][image2]\n",
    "\n",
    "### Latency solution\n",
    "\n",
    "\n",
    "\n",
    "\n",
    "\n",
    "\n",
    "\n"
   ]
  }
 ],
 "metadata": {
  "kernelspec": {
   "display_name": "Python 2",
   "language": "python",
   "name": "python2"
  },
  "language_info": {
   "codemirror_mode": {
    "name": "ipython",
    "version": 2
   },
   "file_extension": ".py",
   "mimetype": "text/x-python",
   "name": "python",
   "nbconvert_exporter": "python",
   "pygments_lexer": "ipython2",
   "version": "2.7.14"
  }
 },
 "nbformat": 4,
 "nbformat_minor": 2
}
