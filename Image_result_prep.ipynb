{
 "cells": [
  {
   "cell_type": "code",
   "execution_count": 6,
   "metadata": {},
   "outputs": [],
   "source": [
    "from PIL import Image\n",
    "from PIL import ImageFont\n",
    "from PIL import ImageDraw \n",
    "\n",
    "img = Image.open(\"data/results/image_real_ssd0.jpg\")\n",
    "draw = ImageDraw.Draw(img)\n",
    "\n",
    "font = ImageFont.truetype(\"/usr/share/fonts/truetype/freefont/FreeMono.ttf\", 15)\n",
    "\n",
    "draw.text((0, 0),\"SSD-Inception\",(255,255,255),font=font)\n",
    "img.save('data/results/sample-out.jpg')"
   ]
  },
  {
   "cell_type": "code",
   "execution_count": 15,
   "metadata": {},
   "outputs": [],
   "source": [
    "import numpy as np\n",
    "import PIL\n",
    "\n",
    "list_im = ['data/results/image_real_ssd0.jpg', 'data/results/image_real_ssd1.jpg', 'data/results/image_real_ssd2.jpg',\n",
    "           'data/results/image_real_ssd3.jpg', 'data/results/image_real_ssd4.jpg', 'data/results/image_real_ssd5.jpg',\n",
    "           'data/results/image_real_ssd6.jpg', 'data/results/image_real_ssd7.jpg', 'data/results/image_real_ssd8.jpg']\n",
    "#list_im = ['data/results/ssd_vertical.jpg', 'data/results/frcnn_vertical.jpg']\n",
    "imgs    = [ PIL.Image.open(i) for i in list_im ]\n",
    "# pick the image which is the smallest, and resize the others to match it (can be arbitrary image shape here)\n",
    "min_shape = sorted( [(np.sum(i.size), i.size ) for i in imgs])[0][1]\n",
    "#imgs_comb = np.hstack( (np.asarray( i.resize(min_shape) ) for i in imgs ) )\n",
    "\n",
    "# save that beautiful picture\n",
    "# imgs_comb = PIL.Image.fromarray( imgs_comb)\n",
    "# imgs_comb.save( 'Trifecta.jpg' )    \n",
    "\n",
    "# for a vertical stacking it is simple: use vstack\n",
    "imgs_comb = np.vstack( (np.asarray( i.resize(min_shape) ) for i in imgs ) )\n",
    "imgs_comb = PIL.Image.fromarray( imgs_comb)\n",
    "imgs_comb.save( 'data/results/real_ssd.jpg' )"
   ]
  }
 ],
 "metadata": {
  "kernelspec": {
   "display_name": "Python 2",
   "language": "python",
   "name": "python2"
  },
  "language_info": {
   "codemirror_mode": {
    "name": "ipython",
    "version": 2
   },
   "file_extension": ".py",
   "mimetype": "text/x-python",
   "name": "python",
   "nbconvert_exporter": "python",
   "pygments_lexer": "ipython2",
   "version": "2.7.14"
  }
 },
 "nbformat": 4,
 "nbformat_minor": 2
}
